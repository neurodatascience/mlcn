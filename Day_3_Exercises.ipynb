{
 "cells": [
  {
   "cell_type": "markdown",
   "metadata": {},
   "source": [
    "# Q3\n",
    "## Q3.1\n",
    "We saw regularization using L1 and L2 losses. A third commonly-used penalty is ElasticNet, which is a weighted combination of the two. For the squared error, the metric would look like:\n",
    "\\begin{equation}\n",
    "    Err(Y, \\hat{Y}) = \\sum (Y-\\hat{Y})^2 + \\alpha ( \\beta L_1 + (1-\\beta) L_2 )\n",
    "\\end{equation}  \n",
    "Here, $\\alpha$ behaves as it did before: it balances the focus between the prediction error and the regularization term. The additional parameter, $\\beta$ balances the relative weight between the L1 and L2 losses. $\\beta$ values of 1 and 0 are the same as L1 and L2 regularization, respectively.  \n",
    "  \n",
    "For the noisy quadratic data that we saw in Section 3, include `sklearn`'s ElasticNet regression model in the comparison and examine the behaviour of your model with different values of $\\alpha$ and $\\beta$.  \n",
    "Between L1, L2, and ElasticNet, which one performs best? (you may need to increase the range of x or the amount of noise to see an appreciable difference).  \n",
    "\n",
    "Note: `sklearn` uses `l1_ratio` as the parameter name for $\\beta$. \n",
    "\n",
    "## Q3.2\n",
    "This question requires using a Python dictionary. A brief explanation is provided.  \n",
    "  \n",
    "Fit the following data using one of the regularized linear regression models:"
   ]
  },
  {
   "cell_type": "code",
   "execution_count": null,
   "metadata": {},
   "outputs": [],
   "source": [
    "import numpy as np\n",
    "from matplotlib import pyplot as plt\n",
    "x = (np.random.rand(500,1)-0.5)*5\n",
    "y = (x-3)*(x-0.1)*(x+2)*(4*x+4) + 15*np.random.randn(*x.shape)\n",
    "plt.plot(x,y,'.')"
   ]
  },
  {
   "cell_type": "markdown",
   "metadata": {},
   "source": [
    "You can (should) use `sklearn.model_selection.GridSearchCV` to get the optimal value of your regularization weight.  \n",
    "The function expects a dictionary for the parameter, `parameter_grid`. Python recognizes `{`braces`}` as declaring a dictionary. Values are stored in a dictionary using a key. For example, `my_dict = {'chicken': 4}` would store the data `4` under the key `chicken` in the `my_dict` dictionary. You can get to the stored data using brackets, like you would access an array with indices:  \n",
    "`my_dict['chicken']`  \n",
    "  \n",
    "The dictionary you need to define must use the name of the parameter you're optimizing as a key, followed by a list of values across which you would like to optimize. For example, if you supplied:  \n",
    "`my_param_dict = {'alpha': [0.1, 0.5, 1, 10]}`  \n",
    "The `GridSearchCV.fit` method would fit your model to your data using each of those values separately. The results are then stored in your fitted object under `.cv_results_`. See the [documentation](https://scikit-learn.org/stable/modules/generated/sklearn.model_selection.GridSearchCV.html?highlight=gridsearchcv#sklearn.model_selection.GridSearchCV) for another example.  "
   ]
  },
  {
   "cell_type": "code",
   "execution_count": null,
   "metadata": {},
   "outputs": [],
   "source": [
    "# Dictionary example\n",
    "my_dict = {'chicken': 4}\n",
    "print(my_dict['chicken'])"
   ]
  },
  {
   "cell_type": "code",
   "execution_count": null,
   "metadata": {},
   "outputs": [],
   "source": [
    "# Example use of GridSearchCV\n",
    "from sklearn.model_selection import GridSearchCV\n",
    "\n",
    "my_param_dict = {'l1_ratio':[0,0.1,0.4,0.8,1]}\n",
    "# pick a model\n",
    "# mdl = SomeModel()\n",
    "\n",
    "gsv = GridSearchCV(mdl, param_grid=my_param_dict)\n",
    "print(gsv.cv_results_)"
   ]
  }
 ],
 "metadata": {
  "kernelspec": {
   "display_name": "Python 3",
   "language": "python",
   "name": "python3"
  },
  "language_info": {
   "codemirror_mode": {
    "name": "ipython",
    "version": 3
   },
   "file_extension": ".py",
   "mimetype": "text/x-python",
   "name": "python",
   "nbconvert_exporter": "python",
   "pygments_lexer": "ipython3",
   "version": "3.8.5"
  },
  "varInspector": {
   "cols": {
    "lenName": 16,
    "lenType": 16,
    "lenVar": 40
   },
   "kernels_config": {
    "python": {
     "delete_cmd_postfix": "",
     "delete_cmd_prefix": "del ",
     "library": "var_list.py",
     "varRefreshCmd": "print(var_dic_list())"
    },
    "r": {
     "delete_cmd_postfix": ") ",
     "delete_cmd_prefix": "rm(",
     "library": "var_list.r",
     "varRefreshCmd": "cat(var_dic_list()) "
    }
   },
   "types_to_exclude": [
    "module",
    "function",
    "builtin_function_or_method",
    "instance",
    "_Feature"
   ],
   "window_display": false
  }
 },
 "nbformat": 4,
 "nbformat_minor": 4
}
