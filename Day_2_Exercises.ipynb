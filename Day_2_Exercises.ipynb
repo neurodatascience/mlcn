{
 "cells": [
  {
   "cell_type": "markdown",
   "metadata": {},
   "source": [
    "# Q2\n",
    "\n",
    "## Conceptual questions:\n",
    "### Q2.1\n",
    "Why should we do cross-validation of our models? What is its purpose?  \n",
    "\n",
    "### Q2.2\n",
    "Describe K-fold cross-validation. What is the benefit of having multiple, separate validation sets?\n"
   ]
  },
  {
   "cell_type": "markdown",
   "metadata": {},
   "source": [
    "## Practical Exercises:\n",
    "## Q2.3\n",
    "Load the Boston housing prices (`sklearn.datasets.load_boston`), and fit a linear regressor. Perform 5-, 10-, and 100-fold cross-validation. Examine the returned performance metrics.  \n",
    "Use ShuffleSplit cross-validation with varying training sizes; does this compare to k-fold?"
   ]
  },
  {
   "cell_type": "markdown",
   "metadata": {},
   "source": [
    "## Q2.4\n",
    "Load the digits dataset (`sklearn.datasets.load_digits`). Note that each sample is an 8x8 image flattened to be 64x1. Select a classifier (e.g. logistic regression or support vector machine), and try to classify the digits. How well can you do? Where are the mistakes coming from?\n",
    "\n",
    "Note: If you want to visualize the data, you can use numpy's reshape function:  \n",
    "`from matplotlib import pyplot as plt; import sklearn.datasets\n",
    "x,y = sklearn.datasets.load_digits(return_X_y=True)\n",
    "x_reshaped = np.reshape(x, (x.shape[0], 8, 8))\n",
    "plt.imshow(x_reshape[5, :, :])`"
   ]
  },
  {
   "cell_type": "markdown",
   "metadata": {},
   "source": [
    "## Q2.5\n",
    "Return to Q2.4; instead of looking at all 64 pixels (dimensions), first use PCA to reduce the number pixels and then try to classify the samples. Justify your choice for the number of components (hint: this is quantifiable)."
   ]
  }
 ],
 "metadata": {
  "kernelspec": {
   "display_name": "Python 3",
   "language": "python",
   "name": "python3"
  },
  "language_info": {
   "codemirror_mode": {
    "name": "ipython",
    "version": 3
   },
   "file_extension": ".py",
   "mimetype": "text/x-python",
   "name": "python",
   "nbconvert_exporter": "python",
   "pygments_lexer": "ipython3",
   "version": "3.8.5"
  },
  "varInspector": {
   "cols": {
    "lenName": 16,
    "lenType": 16,
    "lenVar": 40
   },
   "kernels_config": {
    "python": {
     "delete_cmd_postfix": "",
     "delete_cmd_prefix": "del ",
     "library": "var_list.py",
     "varRefreshCmd": "print(var_dic_list())"
    },
    "r": {
     "delete_cmd_postfix": ") ",
     "delete_cmd_prefix": "rm(",
     "library": "var_list.r",
     "varRefreshCmd": "cat(var_dic_list()) "
    }
   },
   "types_to_exclude": [
    "module",
    "function",
    "builtin_function_or_method",
    "instance",
    "_Feature"
   ],
   "window_display": false
  }
 },
 "nbformat": 4,
 "nbformat_minor": 4
}
